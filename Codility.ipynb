{
 "cells": [
  {
   "cell_type": "markdown",
   "metadata": {},
   "source": [
    "# Q1 - Iterations - binary numbers\n",
    "\n",
    "\n",
    "\n",
    "\n",
    "A binary gap within a positive integer N is any maximal sequence of consecutive zeros that is surrounded by ones at both ends in the binary representation of N.\n",
    "\n",
    "For example, number 9 has binary representation 1001 and contains a binary gap of length 2. The number 529 has binary representation 1000010001 and contains two binary gaps: one of length 4 and one of length 3. The number 20 has binary representation 10100 and contains one binary gap of length 1. The number 15 has binary representation 1111 and has no binary gaps. The number 32 has binary representation 100000 and has no binary gaps.\n",
    "\n",
    "Write a function:\n",
    "\n",
    "    def solution(N)\n",
    "\n",
    "that, given a positive integer N, returns the length of its longest binary gap. The function should return 0 if N doesn't contain a binary gap.\n",
    "\n",
    "For example, given N = 1041 the function should return 5, because N has binary representation 10000010001 and so its longest binary gap is of length 5. Given N = 32 the function should return 0, because N has binary representation '100000' and thus no binary gaps.\n",
    "\n",
    "Write an efficient algorithm for the following assumptions:\n",
    "\n",
    "        N is an integer within the range [1..2,147,483,647]."
   ]
  },
  {
   "cell_type": "code",
   "execution_count": 36,
   "metadata": {},
   "outputs": [
    {
     "data": {
      "text/plain": [
       "5"
      ]
     },
     "execution_count": 36,
     "metadata": {},
     "output_type": "execute_result"
    }
   ],
   "source": [
    "# you can write to stdout for debugging purposes, e.g.\n",
    "# print(\"this is a debug message\")\n",
    "\n",
    "def solution(N):\n",
    "    binary=bin(N)\n",
    "    binary = binary[2:]\n",
    "    length= len(binary)\n",
    "    max=0\n",
    "    for i in range(0,length):\n",
    "        if binary[i]=='1':\n",
    "            cnt = 0\n",
    "            for j in range(i+1,length):\n",
    "                if binary[j]=='0':\n",
    "                    cnt+=1\n",
    "                else:\n",
    "                    if max < cnt:\n",
    "                        max=cnt\n",
    "                    break\n",
    "    return(max)      \n",
    "    \n",
    "    # write your code in Python 3.6\n",
    "    pass\n",
    "\n",
    "solution(1041)"
   ]
  },
  {
   "cell_type": "markdown",
   "metadata": {},
   "source": [
    "# Q2 -  Odd Occurrences In Array\n",
    "\n",
    "A non-empty array A consisting of N integers is given. The array contains an odd number of elements, and each element of the array can be paired with another element that has the same value, except for one element that is left unpaired.\n",
    "\n",
    "For example, in array A such that:\n",
    "  A[0] = 9  A[1] = 3  A[2] = 9\n",
    "  A[3] = 3  A[4] = 9  A[5] = 7\n",
    "  A[6] = 9\n",
    "\n",
    "        the elements at indexes 0 and 2 have value 9,\n",
    "        the elements at indexes 1 and 3 have value 3,\n",
    "        the elements at indexes 4 and 6 have value 9,\n",
    "        the element at index 5 has value 7 and is unpaired.\n",
    "\n",
    "Write a function:\n",
    "\n",
    "    def solution(A)\n",
    "\n",
    "that, given an array A consisting of N integers fulfilling the above conditions, returns the value of the unpaired element.\n",
    "\n",
    "For example, given array A such that:\n",
    "  A[0] = 9  A[1] = 3  A[2] = 9\n",
    "  A[3] = 3  A[4] = 9  A[5] = 7\n",
    "  A[6] = 9\n",
    "\n",
    "the function should return 7, as explained in the example above.\n",
    "\n",
    "Write an efficient algorithm for the following assumptions:\n",
    "\n",
    "        N is an odd integer within the range [1..1,000,000];\n",
    "        each element of array A is an integer within the range [1..1,000,000,000];\n",
    "        all but one of the values in A occur an even number of times."
   ]
  },
  {
   "cell_type": "code",
   "execution_count": 33,
   "metadata": {},
   "outputs": [
    {
     "name": "stdout",
     "output_type": "stream",
     "text": [
      "9 4\n",
      "3 2\n",
      "9 4\n",
      "3 2\n",
      "9 4\n",
      "7 1\n",
      "9 4\n"
     ]
    },
    {
     "data": {
      "text/plain": [
       "7"
      ]
     },
     "execution_count": 33,
     "metadata": {},
     "output_type": "execute_result"
    }
   ],
   "source": [
    "# you can write to stdout for debugging purposes, e.g.\n",
    "# print(\"this is a debug message\")\n",
    "\n",
    "def solution(A):\n",
    "    length = len(A)\n",
    "    cnt = [0] * length\n",
    "    num=0\n",
    "    #print(A, length)\n",
    "    for i in range(0,length):\n",
    "        for j in range(0,length):\n",
    "            if A[i]==A[j]:\n",
    "                cnt[i]+=1        \n",
    "        if cnt[i]%2!=0:\n",
    "                num=A[i]\n",
    "        print(A[i],cnt[i])\n",
    "    return num          \n",
    "            \n",
    "            \n",
    "    # write your code in Python 3.6\n",
    "    pass\n",
    "\n",
    "solution([9, 3, 9, 3, 9, 7, 9])"
   ]
  },
  {
   "cell_type": "markdown",
   "metadata": {},
   "source": [
    "# Q3 - Cyclic Rotation\n",
    "\n",
    "An array A consisting of N integers is given. Rotation of the array means that each element is shifted right by one index, and the last element of the array is moved to the first place. For example, the rotation of array A = [3, 8, 9, 7, 6] is [6, 3, 8, 9, 7] (elements are shifted right by one index and 6 is moved to the first place).\n",
    "\n",
    "The goal is to rotate array A K times; that is, each element of A will be shifted to the right K times.\n",
    "\n",
    "Write a function:\n",
    "\n",
    "    def solution(A, K)\n",
    "\n",
    "that, given an array A consisting of N integers and an integer K, returns the array A rotated K times.\n",
    "\n",
    "For example, given\n",
    "    A = [3, 8, 9, 7, 6]\n",
    "    K = 3\n",
    "\n",
    "the function should return [9, 7, 6, 3, 8]. Three rotations were made:\n",
    "    [3, 8, 9, 7, 6] -> [6, 3, 8, 9, 7]\n",
    "    [6, 3, 8, 9, 7] -> [7, 6, 3, 8, 9]\n",
    "    [7, 6, 3, 8, 9] -> [9, 7, 6, 3, 8]\n",
    "\n",
    "For another example, given\n",
    "    A = [0, 0, 0]\n",
    "    K = 1\n",
    "\n",
    "the function should return [0, 0, 0]\n",
    "\n",
    "Given\n",
    "    A = [1, 2, 3, 4]\n",
    "    K = 4\n",
    "\n",
    "the function should return [1, 2, 3, 4]\n",
    "\n",
    "Assume that:\n",
    "\n",
    "        N and K are integers within the range [0..100];\n",
    "        each element of array A is an integer within the range [−1,000..1,000].\n",
    "\n",
    "In your solution, focus on correctness. The performance of your solution will not be the focus of the assessment."
   ]
  },
  {
   "cell_type": "code",
   "execution_count": 8,
   "metadata": {},
   "outputs": [
    {
     "data": {
      "text/plain": [
       "[3, 4, 1, 2]"
      ]
     },
     "execution_count": 8,
     "metadata": {},
     "output_type": "execute_result"
    }
   ],
   "source": [
    "def solution(A, K):\n",
    "    for i in range(0,K):\n",
    "        length=len(A)\n",
    "        #print(length)\n",
    "        B=[0] * length\n",
    "        for j in range(0,length):\n",
    "            B[j]=A[j]\n",
    "        for k in range(1,length):\n",
    "            A[0]=B[length-1]\n",
    "            A[k]=B[k-1]\n",
    "    return A\n",
    "    # write your code in Python 3.6\n",
    "    pass\n",
    "\n",
    "solution([1, 2, 3, 4], 2)"
   ]
  },
  {
   "cell_type": "markdown",
   "metadata": {},
   "source": [
    "# Q4 - Time Complexity - Frog Jump\n",
    "\n",
    "\n",
    "\n",
    "A small frog wants to get to the other side of the road. The frog is currently located at position X and wants to get to a position greater than or equal to Y. The small frog always jumps a fixed distance, D.\n",
    "\n",
    "Count the minimal number of jumps that the small frog must perform to reach its target.\n",
    "\n",
    "Write a function:\n",
    "\n",
    "    def solution(X, Y, D)\n",
    "\n",
    "that, given three integers X, Y and D, returns the minimal number of jumps from position X to a position equal to or greater than Y.\n",
    "\n",
    "For example, given:\n",
    "  X = 10\n",
    "  Y = 85\n",
    "  D = 30\n",
    "\n",
    "the function should return 3, because the frog will be positioned as follows:\n",
    "\n",
    "        after the first jump, at position 10 + 30 = 40\n",
    "        after the second jump, at position 10 + 30 + 30 = 70\n",
    "        after the third jump, at position 10 + 30 + 30 + 30 = 100\n",
    "\n",
    "Write an efficient algorithm for the following assumptions:\n",
    "\n",
    "        X, Y and D are integers within the range [1..1,000,000,000];\n",
    "        X ≤ Y."
   ]
  },
  {
   "cell_type": "code",
   "execution_count": 9,
   "metadata": {},
   "outputs": [
    {
     "data": {
      "text/plain": [
       "9"
      ]
     },
     "execution_count": 9,
     "metadata": {},
     "output_type": "execute_result"
    }
   ],
   "source": [
    "# you can write to stdout for debugging purposes, e.g.\n",
    "# print(\"this is a debug message\")\n",
    "\n",
    "def solution(X, Y, D):\n",
    "    cnt=0\n",
    "    if X==Y:\n",
    "        return cnt\n",
    "    while X<=Y:\n",
    "        X=X+D\n",
    "        if X != Y:\n",
    "            cnt+=1\n",
    "    return cnt\n",
    "        \n",
    "    \n",
    "    # write your code in Python 3.6\n",
    "    pass\n",
    "\n",
    "solution(10,100,10)"
   ]
  },
  {
   "cell_type": "markdown",
   "metadata": {},
   "source": [
    "# Q5 - Time Complexity - Permutation Missing Element\n",
    "\n",
    "\n",
    "\n",
    "An array A consisting of N different integers is given. The array contains integers in the range [1..(N + 1)], which means that exactly one element is missing.\n",
    "\n",
    "Your goal is to find that missing element.\n",
    "\n",
    "Write a function:\n",
    "\n",
    "    def solution(A)\n",
    "\n",
    "that, given an array A, returns the value of the missing element.\n",
    "\n",
    "For example, given array A such that:\n",
    "  A[0] = 2\n",
    "  A[1] = 3\n",
    "  A[2] = 1\n",
    "  A[3] = 5\n",
    "\n",
    "the function should return 4, as it is the missing element.\n",
    "\n",
    "Write an efficient algorithm for the following assumptions:\n",
    "\n",
    "        N is an integer within the range [0..100,000];\n",
    "        the elements of A are all distinct;\n",
    "        each element of array A is an integer within the range [1..(N + 1)]."
   ]
  },
  {
   "cell_type": "code",
   "execution_count": 28,
   "metadata": {},
   "outputs": [
    {
     "data": {
      "text/plain": [
       "4"
      ]
     },
     "execution_count": 28,
     "metadata": {},
     "output_type": "execute_result"
    }
   ],
   "source": [
    "# you can write to stdout for debugging purposes, e.g.\n",
    "# print(\"this is a debug message\")\n",
    "\n",
    "def solution(A):\n",
    "    length = len(A)\n",
    "    if length == 0:\n",
    "        return 1\n",
    "    if A[0] == 1 and length == 1:\n",
    "        return 2\n",
    "    if A[0] == 2 and length == 1:\n",
    "        return 1\n",
    "         \n",
    "    max=0\n",
    "    \n",
    "    for i in range(0,length):\n",
    "        if A[i] > max:\n",
    "            max=A[i]\n",
    "            \n",
    "    for j in range(1,max+1):\n",
    "        cnt=0  \n",
    "        for k in range(0,length):\n",
    "            if j == A[k]:\n",
    "                cnt+=1\n",
    "        if cnt==0:\n",
    "            #print(j,cnt)\n",
    "            return j\n",
    "        \n",
    "    return max+1\n",
    "    \n",
    "    # write your code in Python 3.6\n",
    "    pass\n",
    "\n",
    "solution([2,3,1,5])"
   ]
  },
  {
   "cell_type": "markdown",
   "metadata": {},
   "source": [
    "# Q6 - Time Complexity - Equilibrium\n",
    "\n",
    "A non-empty array A consisting of N integers is given. Array A represents numbers on a tape.\n",
    "\n",
    "Any integer P, such that 0 < P < N, splits this tape into two non-empty parts: A[0], A[1], ..., A[P − 1] and A[P], A[P + 1], ..., A[N − 1].\n",
    "\n",
    "The difference between the two parts is the value of: |(A[0] + A[1] + ... + A[P − 1]) − (A[P] + A[P + 1] + ... + A[N − 1])|\n",
    "\n",
    "In other words, it is the absolute difference between the sum of the first part and the sum of the second part.\n",
    "\n",
    "For example, consider array A such that:\n",
    "  A[0] = 3\n",
    "  A[1] = 1\n",
    "  A[2] = 2\n",
    "  A[3] = 4\n",
    "  A[4] = 3\n",
    "\n",
    "We can split this tape in four places:\n",
    "\n",
    "        P = 1, difference = |3 − 10| = 7\n",
    "        P = 2, difference = |4 − 9| = 5\n",
    "        P = 3, difference = |6 − 7| = 1\n",
    "        P = 4, difference = |10 − 3| = 7\n",
    "\n",
    "Write a function:\n",
    "\n",
    "    def solution(A)\n",
    "\n",
    "that, given a non-empty array A of N integers, returns the minimal difference that can be achieved.\n",
    "\n",
    "For example, given:\n",
    "  A[0] = 3\n",
    "  A[1] = 1\n",
    "  A[2] = 2\n",
    "  A[3] = 4\n",
    "  A[4] = 3\n",
    "\n",
    "the function should return 1, as explained above.\n",
    "\n",
    "Write an efficient algorithm for the following assumptions:\n",
    "\n",
    "        N is an integer within the range [2..100,000];\n",
    "        each element of array A is an integer within the range [−1,000..1,000]."
   ]
  },
  {
   "cell_type": "code",
   "execution_count": 57,
   "metadata": {},
   "outputs": [
    {
     "name": "stdout",
     "output_type": "stream",
     "text": [
      "5\n",
      "3 10 7\n",
      "4 9 5\n",
      "6 7 1\n",
      "10 3 7\n",
      "13 0 13\n"
     ]
    },
    {
     "data": {
      "text/plain": [
       "1"
      ]
     },
     "execution_count": 57,
     "metadata": {},
     "output_type": "execute_result"
    }
   ],
   "source": [
    "def solution(A):\n",
    "    length=len(A)\n",
    "    print(length)\n",
    "    fp=0\n",
    "    sp=0\n",
    "    diff=[0]*length\n",
    "    min=1000\n",
    "    for i in range(0,length):\n",
    "        for j in range(i+1,length):\n",
    "            sp+=A[j]\n",
    "        fp+=A[i]\n",
    "        diff[i]=abs(fp-sp)\n",
    "        print(fp,sp,diff[i])\n",
    "        sp=0\n",
    "        if min > diff[i] and i<length-1:\n",
    "            min=diff[i]\n",
    "        if length ==2:\n",
    "            return diff[0]\n",
    "    \n",
    "    return min\n",
    "\n",
    "    pass\n",
    "\n",
    "solution([3,1,2,4,3])"
   ]
  },
  {
   "cell_type": "markdown",
   "metadata": {},
   "source": [
    "# Q7 - Counting Elements - Permutation Check\n",
    "VIEW START\n",
    "\n",
    "\n",
    "\n",
    "\n",
    "A non-empty array A consisting of N integers is given.\n",
    "\n",
    "A permutation is a sequence containing each element from 1 to N once, and only once.\n",
    "\n",
    "For example, array A such that:\n",
    "    A[0] = 4\n",
    "    A[1] = 1\n",
    "    A[2] = 3\n",
    "    A[3] = 2\n",
    "\n",
    "is a permutation, but array A such that:\n",
    "    A[0] = 4\n",
    "    A[1] = 1\n",
    "    A[2] = 3\n",
    "\n",
    "is not a permutation, because value 2 is missing.\n",
    "\n",
    "The goal is to check whether array A is a permutation.\n",
    "\n",
    "Write a function:\n",
    "\n",
    "    def solution(A)\n",
    "\n",
    "that, given an array A, returns 1 if array A is a permutation and 0 if it is not.\n",
    "\n",
    "For example, given array A such that:\n",
    "    A[0] = 4\n",
    "    A[1] = 1\n",
    "    A[2] = 3\n",
    "    A[3] = 2\n",
    "\n",
    "the function should return 1.\n",
    "\n",
    "Given array A such that:\n",
    "    A[0] = 4\n",
    "    A[1] = 1\n",
    "    A[2] = 3\n",
    "\n",
    "the function should return 0.\n",
    "\n",
    "Write an efficient algorithm for the following assumptions:\n",
    "\n",
    "        N is an integer within the range [1..100,000];\n",
    "        each element of array A is an integer within the range [1..1,000,000,000]."
   ]
  },
  {
   "cell_type": "code",
   "execution_count": 13,
   "metadata": {},
   "outputs": [
    {
     "data": {
      "text/plain": [
       "1"
      ]
     },
     "execution_count": 13,
     "metadata": {},
     "output_type": "execute_result"
    }
   ],
   "source": [
    "def solution(A):\n",
    "    length=len(A)\n",
    "    for i in range(1,length+1):\n",
    "            cnt=0\n",
    "            for j in range(0,length):\n",
    "                if A[j]==i:\n",
    "                    cnt+=1\n",
    "            if cnt == 0:\n",
    "                return 0            \n",
    "    if cnt==1:\n",
    "        return 1\n",
    "    else:\n",
    "        return 0\n",
    "\n",
    "    # write your code in Python 3.6\n",
    "    pass\n",
    "\n",
    "solution([4,1,3,2])"
   ]
  },
  {
   "cell_type": "markdown",
   "metadata": {},
   "source": [
    "# Q8 - Counting Elements - Frog River Jump\n",
    "VIEW START\n",
    ".\n",
    "\n",
    "A small frog wants to get to the other side of a river. The frog is initially located on one bank of the river (position 0) and wants to get to the opposite bank (position X+1). Leaves fall from a tree onto the surface of the river.\n",
    "\n",
    "You are given an array A consisting of N integers representing the falling leaves. A[K] represents the position where one leaf falls at time K, measured in seconds.\n",
    "\n",
    "The goal is to find the earliest time when the frog can jump to the other side of the river. The frog can cross only when leaves appear at every position across the river from 1 to X (that is, we want to find the earliest moment when all the positions from 1 to X are covered by leaves). You may assume that the speed of the current in the river is negligibly small, i.e. the leaves do not change their positions once they fall in the river.\n",
    "\n",
    "For example, you are given integer X = 5 and array A such that:\n",
    "  A[0] = 1\n",
    "  A[1] = 3\n",
    "  A[2] = 1\n",
    "  A[3] = 4\n",
    "  A[4] = 2\n",
    "  A[5] = 3\n",
    "  A[6] = 5\n",
    "  A[7] = 4\n",
    "\n",
    "In second 6, a leaf falls into position 5. This is the earliest time when leaves appear in every position across the river.\n",
    "\n",
    "Write a function:\n",
    "\n",
    "    def solution(X, A)\n",
    "\n",
    "that, given a non-empty array A consisting of N integers and integer X, returns the earliest time when the frog can jump to the other side of the river.\n",
    "\n",
    "If the frog is never able to jump to the other side of the river, the function should return −1.\n",
    "\n",
    "For example, given X = 5 and array A such that:\n",
    "  A[0] = 1\n",
    "  A[1] = 3\n",
    "  A[2] = 1\n",
    "  A[3] = 4\n",
    "  A[4] = 2\n",
    "  A[5] = 3\n",
    "  A[6] = 5\n",
    "  A[7] = 4\n",
    "\n",
    "the function should return 6, as explained above.\n",
    "\n",
    "Write an efficient algorithm for the following assumptions:\n",
    "\n",
    "        N and X are integers within the range [1..100,000];\n",
    "        each element of array A is an integer within the range [1..X]."
   ]
  },
  {
   "cell_type": "code",
   "execution_count": 138,
   "metadata": {},
   "outputs": [
    {
     "name": "stdout",
     "output_type": "stream",
     "text": [
      "1 0\n",
      "2 4\n",
      "3 1\n",
      "4 3\n"
     ]
    },
    {
     "data": {
      "text/plain": [
       "4"
      ]
     },
     "execution_count": 138,
     "metadata": {},
     "output_type": "execute_result"
    }
   ],
   "source": [
    "def solution(X, A):\n",
    "    length=len(A)\n",
    "    find = [-1]*X\n",
    "    for i in range(1,X+1):\n",
    "        for j in range(0,length): \n",
    "            if i == A[j]:\n",
    "                if find[i-1]==-1:\n",
    "                    find[i-1]=j\n",
    "                #print(i)\n",
    "     # write your code in Python 3.6\n",
    "        print(i,find[i-1])\n",
    "    max=-1      \n",
    "    for i in range(0,X):\n",
    "        if find[i]==-1:\n",
    "            return -1            \n",
    "        if max<find[i]:\n",
    "            max=find[i]\n",
    "    return max        \n",
    "    pass\n",
    "    \n",
    "solution(4,[1,3,1,4,2,3,5,4])"
   ]
  },
  {
   "cell_type": "markdown",
   "metadata": {},
   "source": [
    "# Q9 - Counting Elements - Missing Integer\n",
    "VIEW START\n",
    ".\n",
    "\n",
    "Write a function:\n",
    "\n",
    "    def solution(A)\n",
    "\n",
    "that, given an array A of N integers, returns the smallest positive integer (greater than 0) that does not occur in A.\n",
    "\n",
    "For example, given A = [1, 3, 6, 4, 1, 2], the function should return 5.\n",
    "\n",
    "Given A = [1, 2, 3], the function should return 4.\n",
    "\n",
    "Given A = [−1, −3], the function should return 1.\n",
    "\n",
    "Write an efficient algorithm for the following assumptions:\n",
    "\n",
    "        N is an integer within the range [1..100,000];\n",
    "        each element of array A is an integer within the range [−1,000,000..1,000,000]."
   ]
  },
  {
   "cell_type": "code",
   "execution_count": 82,
   "metadata": {},
   "outputs": [
    {
     "name": "stdout",
     "output_type": "stream",
     "text": [
      "1 6\n",
      "1 2\n",
      "2 1\n",
      "3 1\n",
      "4 1\n",
      "5 0\n",
      "5\n"
     ]
    },
    {
     "data": {
      "text/plain": [
       "5"
      ]
     },
     "execution_count": 82,
     "metadata": {},
     "output_type": "execute_result"
    }
   ],
   "source": [
    "def solution(A):\n",
    "    length=len(A)\n",
    "    min= 1000000\n",
    "    max=-1000000\n",
    "    for i in range(0,length):\n",
    "        if min > A[i]:\n",
    "            min = A[i]\n",
    "        if max < A[i]:\n",
    "            max = A[i]\n",
    "    print(min,max)\n",
    "    cnt=0\n",
    "    if length == 1 and A[0]==1:\n",
    "        return 2\n",
    "    if length == 2 and min<1 and max>1:\n",
    "        return 1\n",
    "    if min >1:\n",
    "        return 1\n",
    "    if max < 1:\n",
    "        return 1\n",
    "    for j in range(1,max):\n",
    "        cnt=0\n",
    "        for k in range(0,length):\n",
    "            if j==A[k]:\n",
    "                cnt+=1\n",
    "        print(j,cnt)\n",
    "        if cnt==0:\n",
    "            print(j)\n",
    "            return j\n",
    "    if cnt == 1:\n",
    "        return max+1\n",
    "   \n",
    "    \n",
    "    # write your code in Python 3.6\n",
    "    pass\n",
    "solution([1, 3, 6, 4, 1, 2])\n",
    "#solution([1, 2, 3])\n",
    "#solution([-1, -3])\n",
    "#solution([0])\n",
    "#solution([4, 5, 6, 2])\n",
    "#solution([4, 5, 6, 3])\n",
    "#solution([1])\n",
    "#solution([-1000000,2,3,4,5,1000000])"
   ]
  },
  {
   "cell_type": "markdown",
   "metadata": {},
   "source": [
    "# Q10 - Counting Elements - Max Counters\n",
    "\n",
    "You are given N counters, initially set to 0, and you have two possible operations on them:\n",
    "\n",
    "        increase(X) − counter X is increased by 1,\n",
    "        max counter − all counters are set to the maximum value of any counter.\n",
    "\n",
    "A non-empty array A of M integers is given. This array represents consecutive operations:\n",
    "\n",
    "        if A[K] = X, such that 1 ≤ X ≤ N, then operation K is increase(X),\n",
    "        if A[K] = N + 1 then operation K is max counter.\n",
    "\n",
    "For example, given integer N = 5 and array A such that:\n",
    "    A[0] = 3\n",
    "    A[1] = 4\n",
    "    A[2] = 4\n",
    "    A[3] = 6\n",
    "    A[4] = 1\n",
    "    A[5] = 4\n",
    "    A[6] = 4\n",
    "\n",
    "the values of the counters after each consecutive operation will be:\n",
    "    (0, 0, 1, 0, 0)\n",
    "    (0, 0, 1, 1, 0)\n",
    "    (0, 0, 1, 2, 0)\n",
    "    (2, 2, 2, 2, 2)\n",
    "    (3, 2, 2, 2, 2)\n",
    "    (3, 2, 2, 3, 2)\n",
    "    (3, 2, 2, 4, 2)\n",
    "\n",
    "The goal is to calculate the value of every counter after all operations.\n",
    "\n",
    "Write a function:\n",
    "\n",
    "    def solution(N, A)\n",
    "\n",
    "that, given an integer N and a non-empty array A consisting of M integers, returns a sequence of integers representing the values of the counters.\n",
    "\n",
    "Result array should be returned as an array of integers.\n",
    "\n",
    "For example, given:\n",
    "    A[0] = 3\n",
    "    A[1] = 4\n",
    "    A[2] = 4\n",
    "    A[3] = 6\n",
    "    A[4] = 1\n",
    "    A[5] = 4\n",
    "    A[6] = 4\n",
    "\n",
    "the function should return [3, 2, 2, 4, 2], as explained above.\n",
    "\n",
    "Write an efficient algorithm for the following assumptions:\n",
    "\n",
    "        N and M are integers within the range [1..100,000];\n",
    "        each element of array A is an integer within the range [1..N + 1]."
   ]
  },
  {
   "cell_type": "code",
   "execution_count": 8,
   "metadata": {},
   "outputs": [
    {
     "name": "stdout",
     "output_type": "stream",
     "text": [
      "[0, 0, 0, 0, 0] 7\n"
     ]
    },
    {
     "data": {
      "text/plain": [
       "[3, 2, 2, 4, 2]"
      ]
     },
     "execution_count": 8,
     "metadata": {},
     "output_type": "execute_result"
    }
   ],
   "source": [
    "def solution(N, A):\n",
    "    CNTA=[0]*N\n",
    "    length=len(A)\n",
    "    print(CNTA,length)\n",
    "    for i in range(0,length):\n",
    "        max=0\n",
    "        for j in range(0,N):\n",
    "            if max < CNTA[j]:\n",
    "                max=CNTA[j]\n",
    "        if A[i]<=N:\n",
    "            CNTA[A[i]-1]+=1\n",
    "        if A[i]==N+1:\n",
    "            for k in range(0,N):\n",
    "                CNTA[k]=max\n",
    "\n",
    "    return CNTA    \n",
    "    \n",
    "    # write your code in Python 3.6\n",
    "    pass\n",
    "solution(5,[3,4,4,6,1,4,4])"
   ]
  }
 ],
 "metadata": {
  "kernelspec": {
   "display_name": "Python 3",
   "language": "python",
   "name": "python3"
  },
  "language_info": {
   "codemirror_mode": {
    "name": "ipython",
    "version": 3
   },
   "file_extension": ".py",
   "mimetype": "text/x-python",
   "name": "python",
   "nbconvert_exporter": "python",
   "pygments_lexer": "ipython3",
   "version": "3.6.8"
  }
 },
 "nbformat": 4,
 "nbformat_minor": 2
}
