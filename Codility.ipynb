{
 "cells": [
  {
   "cell_type": "markdown",
   "metadata": {},
   "source": [
    "# Q1 - Iterations - binary numbers\n",
    "\n",
    "\n",
    "A binary gap within a positive integer N is any maximal sequence of consecutive zeros that is surrounded by ones at both ends in the binary representation of N.\n",
    "\n",
    "For example, number 9 has binary representation 1001 and contains a binary gap of length 2. The number 529 has binary representation 1000010001 and contains two binary gaps: one of length 4 and one of length 3. The number 20 has binary representation 10100 and contains one binary gap of length 1. The number 15 has binary representation 1111 and has no binary gaps. The number 32 has binary representation 100000 and has no binary gaps.\n",
    "\n",
    "Write a function:\n",
    "\n",
    "    class Solution { public int solution(int N); }\n",
    "\n",
    "that, given a positive integer N, returns the length of its longest binary gap. The function should return 0 if N doesn't contain a binary gap.\n",
    "\n",
    "For example, given N = 1041 the function should return 5, because N has binary representation 10000010001 and so its longest binary gap is of length 5. Given N = 32 the function should return 0, because N has binary representation '100000' and thus no binary gaps.\n",
    "\n",
    "Write an efficient algorithm for the following assumptions:\n",
    "\n",
    "        N is an integer within the range [1..2,147,483,647]."
   ]
  },
  {
   "cell_type": "code",
   "execution_count": 36,
   "metadata": {},
   "outputs": [
    {
     "data": {
      "text/plain": [
       "5"
      ]
     },
     "execution_count": 36,
     "metadata": {},
     "output_type": "execute_result"
    }
   ],
   "source": [
    "# you can write to stdout for debugging purposes, e.g.\n",
    "# print(\"this is a debug message\")\n",
    "\n",
    "def solution(N):\n",
    "    binary=bin(N)\n",
    "    binary = binary[2:]\n",
    "    length= len(binary)\n",
    "    max=0\n",
    "    for i in range(0,length):\n",
    "        if binary[i]=='1':\n",
    "            cnt = 0\n",
    "            for j in range(i+1,length):\n",
    "                if binary[j]=='0':\n",
    "                    cnt+=1\n",
    "                else:\n",
    "                    if max < cnt:\n",
    "                        max=cnt\n",
    "                    break\n",
    "    return(max)      \n",
    "    \n",
    "    # write your code in Python 3.6\n",
    "    pass\n",
    "\n",
    "solution(1041)"
   ]
  },
  {
   "cell_type": "markdown",
   "metadata": {},
   "source": [
    "# Q2 -  OddOccurrencesInArray\n",
    "\n",
    "A non-empty array A consisting of N integers is given. The array contains an odd number of elements, and each element of the array can be paired with another element that has the same value, except for one element that is left unpaired.\n",
    "\n",
    "For example, in array A such that:\n",
    "  A[0] = 9  A[1] = 3  A[2] = 9\n",
    "  A[3] = 3  A[4] = 9  A[5] = 7\n",
    "  A[6] = 9\n",
    "\n",
    "        the elements at indexes 0 and 2 have value 9,\n",
    "        the elements at indexes 1 and 3 have value 3,\n",
    "        the elements at indexes 4 and 6 have value 9,\n",
    "        the element at index 5 has value 7 and is unpaired.\n",
    "\n",
    "Write a function:\n",
    "\n",
    "    def solution(A)\n",
    "\n",
    "that, given an array A consisting of N integers fulfilling the above conditions, returns the value of the unpaired element.\n",
    "\n",
    "For example, given array A such that:\n",
    "  A[0] = 9  A[1] = 3  A[2] = 9\n",
    "  A[3] = 3  A[4] = 9  A[5] = 7\n",
    "  A[6] = 9\n",
    "\n",
    "the function should return 7, as explained in the example above.\n",
    "\n",
    "Write an efficient algorithm for the following assumptions:\n",
    "\n",
    "        N is an odd integer within the range [1..1,000,000];\n",
    "        each element of array A is an integer within the range [1..1,000,000,000];\n",
    "        all but one of the values in A occur an even number of times."
   ]
  },
  {
   "cell_type": "code",
   "execution_count": 33,
   "metadata": {},
   "outputs": [
    {
     "name": "stdout",
     "output_type": "stream",
     "text": [
      "9 4\n",
      "3 2\n",
      "9 4\n",
      "3 2\n",
      "9 4\n",
      "7 1\n",
      "9 4\n"
     ]
    },
    {
     "data": {
      "text/plain": [
       "7"
      ]
     },
     "execution_count": 33,
     "metadata": {},
     "output_type": "execute_result"
    }
   ],
   "source": [
    "# you can write to stdout for debugging purposes, e.g.\n",
    "# print(\"this is a debug message\")\n",
    "\n",
    "def solution(A):\n",
    "    length = len(A)\n",
    "    cnt = [0] * length\n",
    "    num=0\n",
    "    #print(A, length)\n",
    "    for i in range(0,length):\n",
    "        for j in range(0,length):\n",
    "            if A[i]==A[j]:\n",
    "                cnt[i]+=1        \n",
    "        if cnt[i]%2!=0:\n",
    "                num=A[i]\n",
    "        print(A[i],cnt[i])\n",
    "    return num          \n",
    "            \n",
    "            \n",
    "    # write your code in Python 3.6\n",
    "    pass\n",
    "\n",
    "solution([9, 3, 9, 3, 9, 7, 9])"
   ]
  },
  {
   "cell_type": "markdown",
   "metadata": {},
   "source": [
    "# Q3 - CyclicRotation\n",
    "\n",
    "An array A consisting of N integers is given. Rotation of the array means that each element is shifted right by one index, and the last element of the array is moved to the first place. For example, the rotation of array A = [3, 8, 9, 7, 6] is [6, 3, 8, 9, 7] (elements are shifted right by one index and 6 is moved to the first place).\n",
    "\n",
    "The goal is to rotate array A K times; that is, each element of A will be shifted to the right K times.\n",
    "\n",
    "Write a function:\n",
    "\n",
    "    def solution(A, K)\n",
    "\n",
    "that, given an array A consisting of N integers and an integer K, returns the array A rotated K times.\n",
    "\n",
    "For example, given\n",
    "    A = [3, 8, 9, 7, 6]\n",
    "    K = 3\n",
    "\n",
    "the function should return [9, 7, 6, 3, 8]. Three rotations were made:\n",
    "    [3, 8, 9, 7, 6] -> [6, 3, 8, 9, 7]\n",
    "    [6, 3, 8, 9, 7] -> [7, 6, 3, 8, 9]\n",
    "    [7, 6, 3, 8, 9] -> [9, 7, 6, 3, 8]\n",
    "\n",
    "For another example, given\n",
    "    A = [0, 0, 0]\n",
    "    K = 1\n",
    "\n",
    "the function should return [0, 0, 0]\n",
    "\n",
    "Given\n",
    "    A = [1, 2, 3, 4]\n",
    "    K = 4\n",
    "\n",
    "the function should return [1, 2, 3, 4]\n",
    "\n",
    "Assume that:\n",
    "\n",
    "        N and K are integers within the range [0..100];\n",
    "        each element of array A is an integer within the range [−1,000..1,000].\n",
    "\n",
    "In your solution, focus on correctness. The performance of your solution will not be the focus of the assessment."
   ]
  },
  {
   "cell_type": "code",
   "execution_count": 8,
   "metadata": {},
   "outputs": [
    {
     "data": {
      "text/plain": [
       "[3, 4, 1, 2]"
      ]
     },
     "execution_count": 8,
     "metadata": {},
     "output_type": "execute_result"
    }
   ],
   "source": [
    "def solution(A, K):\n",
    "    for i in range(0,K):\n",
    "        length=len(A)\n",
    "        #print(length)\n",
    "        B=[0] * length\n",
    "        for j in range(0,length):\n",
    "            B[j]=A[j]\n",
    "        for k in range(1,length):\n",
    "            A[0]=B[length-1]\n",
    "            A[k]=B[k-1]\n",
    "    return A\n",
    "    # write your code in Python 3.6\n",
    "    pass\n",
    "\n",
    "solution([1, 2, 3, 4], 2)"
   ]
  },
  {
   "cell_type": "markdown",
   "metadata": {},
   "source": [
    "# Q4 - Time Complexity - FrogJmp\n",
    "\n",
    "\n",
    "\n",
    "A small frog wants to get to the other side of the road. The frog is currently located at position X and wants to get to a position greater than or equal to Y. The small frog always jumps a fixed distance, D.\n",
    "\n",
    "Count the minimal number of jumps that the small frog must perform to reach its target.\n",
    "\n",
    "Write a function:\n",
    "\n",
    "    def solution(X, Y, D)\n",
    "\n",
    "that, given three integers X, Y and D, returns the minimal number of jumps from position X to a position equal to or greater than Y.\n",
    "\n",
    "For example, given:\n",
    "  X = 10\n",
    "  Y = 85\n",
    "  D = 30\n",
    "\n",
    "the function should return 3, because the frog will be positioned as follows:\n",
    "\n",
    "        after the first jump, at position 10 + 30 = 40\n",
    "        after the second jump, at position 10 + 30 + 30 = 70\n",
    "        after the third jump, at position 10 + 30 + 30 + 30 = 100\n",
    "\n",
    "Write an efficient algorithm for the following assumptions:\n",
    "\n",
    "        X, Y and D are integers within the range [1..1,000,000,000];\n",
    "        X ≤ Y."
   ]
  },
  {
   "cell_type": "code",
   "execution_count": 9,
   "metadata": {},
   "outputs": [
    {
     "data": {
      "text/plain": [
       "9"
      ]
     },
     "execution_count": 9,
     "metadata": {},
     "output_type": "execute_result"
    }
   ],
   "source": [
    "# you can write to stdout for debugging purposes, e.g.\n",
    "# print(\"this is a debug message\")\n",
    "\n",
    "def solution(X, Y, D):\n",
    "    cnt=0\n",
    "    if X==Y:\n",
    "        return cnt\n",
    "    while X<=Y:\n",
    "        X=X+D\n",
    "        if X != Y:\n",
    "            cnt+=1\n",
    "    return cnt\n",
    "        \n",
    "    \n",
    "    # write your code in Python 3.6\n",
    "    pass\n",
    "\n",
    "solution(10,100,10)"
   ]
  },
  {
   "cell_type": "markdown",
   "metadata": {},
   "source": [
    "# Q5 - Time Complexity - Permutation Missing Element\n",
    "\n",
    "\n",
    "\n",
    "An array A consisting of N different integers is given. The array contains integers in the range [1..(N + 1)], which means that exactly one element is missing.\n",
    "\n",
    "Your goal is to find that missing element.\n",
    "\n",
    "Write a function:\n",
    "\n",
    "    def solution(A)\n",
    "\n",
    "that, given an array A, returns the value of the missing element.\n",
    "\n",
    "For example, given array A such that:\n",
    "  A[0] = 2\n",
    "  A[1] = 3\n",
    "  A[2] = 1\n",
    "  A[3] = 5\n",
    "\n",
    "the function should return 4, as it is the missing element.\n",
    "\n",
    "Write an efficient algorithm for the following assumptions:\n",
    "\n",
    "        N is an integer within the range [0..100,000];\n",
    "        the elements of A are all distinct;\n",
    "        each element of array A is an integer within the range [1..(N + 1)]."
   ]
  },
  {
   "cell_type": "code",
   "execution_count": 104,
   "metadata": {},
   "outputs": [
    {
     "data": {
      "text/plain": [
       "4"
      ]
     },
     "execution_count": 104,
     "metadata": {},
     "output_type": "execute_result"
    }
   ],
   "source": [
    "# you can write to stdout for debugging purposes, e.g.\n",
    "# print(\"this is a debug message\")\n",
    "\n",
    "def solution(A):\n",
    "    length = len(A)\n",
    "    if length == 0:\n",
    "        return 1\n",
    "    if A[0] == 1 and length == 1:\n",
    "        return 2\n",
    "    if A[0] == 2 and length == 1:\n",
    "        return 1\n",
    "         \n",
    "    max=0\n",
    "    \n",
    "    for i in range(0,length):\n",
    "        if A[i] > max:\n",
    "            max=A[i]\n",
    "            \n",
    "    for j in range(1,max+1):\n",
    "        cnt=0  \n",
    "        for k in range(0,length):\n",
    "            if j == A[k]:\n",
    "                cnt+=1\n",
    "        if cnt==0:\n",
    "            #print(j,cnt)\n",
    "            return j\n",
    "        \n",
    "    return max+1\n",
    "    \n",
    "    # write your code in Python 3.6\n",
    "    pass\n",
    "\n",
    "solution([2,3,1,5])"
   ]
  }
 ],
 "metadata": {
  "kernelspec": {
   "display_name": "Python 3",
   "language": "python",
   "name": "python3"
  },
  "language_info": {
   "codemirror_mode": {
    "name": "ipython",
    "version": 3
   },
   "file_extension": ".py",
   "mimetype": "text/x-python",
   "name": "python",
   "nbconvert_exporter": "python",
   "pygments_lexer": "ipython3",
   "version": "3.6.8"
  }
 },
 "nbformat": 4,
 "nbformat_minor": 2
}
